{
 "cells": [
  {
   "cell_type": "code",
   "execution_count": 1,
   "metadata": {},
   "outputs": [],
   "source": [
    "#############\n",
    "# LIBRARIES #\n",
    "#############\n",
    "\n",
    "import os\n",
    "# Current working directory\n",
    "curr_dir = os.getcwd()\n",
    "data_dir = os.path.join('data')\n",
    "notebook_dir = os.path.join('notebooks')\n",
    "figures_dir = os.path.join('figures')\n",
    "analyses_dir = os.path.join('analyses')\n",
    "project_dir = os.path.join('..')\n",
    "\n",
    "import pandas as pd\n",
    "import numpy as np\n",
    "\n",
    "import matplotlib.pyplot as plt\n",
    "import seaborn as sns\n",
    "\n",
    "from rdkit import Chem\n",
    "from rdkit.Chem import Draw, Descriptors, Lipinski\n",
    "from rdkit.Chem.Descriptors import MolWt, MolLogP, NumHDonors, NumHAcceptors\n",
    "\n",
    "from numpy.random import seed\n",
    "from numpy.random import randn\n",
    "from scipy.stats import mannwhitneyu\n",
    "\n",
    "target = 'CASP2'"
   ]
  },
  {
   "cell_type": "code",
   "execution_count": 2,
   "metadata": {},
   "outputs": [
    {
     "data": {
      "text/html": [
       "<div>\n",
       "<style scoped>\n",
       "    .dataframe tbody tr th:only-of-type {\n",
       "        vertical-align: middle;\n",
       "    }\n",
       "\n",
       "    .dataframe tbody tr th {\n",
       "        vertical-align: top;\n",
       "    }\n",
       "\n",
       "    .dataframe thead th {\n",
       "        text-align: right;\n",
       "    }\n",
       "</style>\n",
       "<table border=\"1\" class=\"dataframe\">\n",
       "  <thead>\n",
       "    <tr style=\"text-align: right;\">\n",
       "      <th></th>\n",
       "      <th>molecule_chembl_id</th>\n",
       "      <th>canonical_smiles</th>\n",
       "      <th>standard_value</th>\n",
       "      <th>bioavtivity_class</th>\n",
       "    </tr>\n",
       "  </thead>\n",
       "  <tbody>\n",
       "    <tr>\n",
       "      <th>0</th>\n",
       "      <td>CHEMBL366927</td>\n",
       "      <td>CCCCCCN(C)CC(=O)C(CC(=O)O)NC(=O)C(CC)n1cc(C(C)...</td>\n",
       "      <td>10.0</td>\n",
       "      <td>active</td>\n",
       "    </tr>\n",
       "    <tr>\n",
       "      <th>1</th>\n",
       "      <td>CHEMBL179503</td>\n",
       "      <td>CCCCCN(C)CC(=O)C(CC(=O)O)NC(=O)C(CC)n1cc(C(C)(...</td>\n",
       "      <td>10.0</td>\n",
       "      <td>active</td>\n",
       "    </tr>\n",
       "    <tr>\n",
       "      <th>2</th>\n",
       "      <td>CHEMBL206435</td>\n",
       "      <td>O=C1NC(=O)c2ccccc2C1=O</td>\n",
       "      <td>1530.0</td>\n",
       "      <td>intermediate</td>\n",
       "    </tr>\n",
       "    <tr>\n",
       "      <th>3</th>\n",
       "      <td>CHEMBL203709</td>\n",
       "      <td>COc1ccccc1NC(=O)CCC(=O)Nc1ccc2c(c1)C(=O)C(=O)N...</td>\n",
       "      <td>537.0</td>\n",
       "      <td>active</td>\n",
       "    </tr>\n",
       "    <tr>\n",
       "      <th>4</th>\n",
       "      <td>CHEMBL438969</td>\n",
       "      <td>O=C(CCC(=O)N1CCCCC1)Nc1ccc2c(c1)C(=O)C(=O)NC2=O</td>\n",
       "      <td>231.0</td>\n",
       "      <td>active</td>\n",
       "    </tr>\n",
       "  </tbody>\n",
       "</table>\n",
       "</div>"
      ],
      "text/plain": [
       "  molecule_chembl_id                                   canonical_smiles  \\\n",
       "0       CHEMBL366927  CCCCCCN(C)CC(=O)C(CC(=O)O)NC(=O)C(CC)n1cc(C(C)...   \n",
       "1       CHEMBL179503  CCCCCN(C)CC(=O)C(CC(=O)O)NC(=O)C(CC)n1cc(C(C)(...   \n",
       "2       CHEMBL206435                             O=C1NC(=O)c2ccccc2C1=O   \n",
       "3       CHEMBL203709  COc1ccccc1NC(=O)CCC(=O)Nc1ccc2c(c1)C(=O)C(=O)N...   \n",
       "4       CHEMBL438969    O=C(CCC(=O)N1CCCCC1)Nc1ccc2c(c1)C(=O)C(=O)NC2=O   \n",
       "\n",
       "   standard_value bioavtivity_class  \n",
       "0            10.0            active  \n",
       "1            10.0            active  \n",
       "2          1530.0      intermediate  \n",
       "3           537.0            active  \n",
       "4           231.0            active  "
      ]
     },
     "execution_count": 2,
     "metadata": {},
     "output_type": "execute_result"
    }
   ],
   "source": [
    "# Opening the preprocessed data\n",
    "activity_df = pd.read_csv(os.path.join(project_dir, data_dir, 'CASP2_bioactivity_data_preprocessed.csv'))\n",
    "activity_df.head()"
   ]
  },
  {
   "attachments": {},
   "cell_type": "markdown",
   "metadata": {},
   "source": [
    "### Lipinski Rule-of-Five (Ro5) for evaluating the \"druglikeness\" of compounds.\n",
    "\n",
    "\"Druglikeness is based on four steps --Pharmacokinetic Profile:\n",
    "\n",
    "- **A**bsorption: Describes how the drug moves from the site of administration to the site of action.\n",
    "- **D**istribution: Describes the journey of the drug through the bloodstream to various tissues of the body.\n",
    "- **M**etabolism: Describes the process that breaks down the drug.\n",
    "- **E**xcretion: Describes the removal of the drug from the body.\n",
    "\n",
    "| ![image](https://www.researchgate.net/profile/Imane-Almi/publication/323343296/figure/fig6/AS:614315828731914@1523475715214/Lipinskis-Rule-of-five.png) |\n",
    "| :--: |\n",
    "| Lipinski Rule-of-Five (Ro5) for evaluating the \"druglikeness\" of compounds |"
   ]
  },
  {
   "cell_type": "code",
   "execution_count": 3,
   "metadata": {},
   "outputs": [],
   "source": [
    "# Writing a function to calculate Lipinski descriptors\n",
    "def get_lipinski_descriptors(df):\n",
    "    \"\"\"\n",
    "    Function takes in a preprocessed dataframe and returns a dataframe with the following descriptors:\n",
    "    Molecular Weight (MW)\n",
    "    Molecular LogP (LogP)\n",
    "    Hydrogen Bond Donors (NumHDonors)\n",
    "    Hydrogen Bond Acceptors (NumHAcceptors)\n",
    "    \"\"\"\n",
    "    all_canonical_smiles = np.array(activity_df.canonical_smiles)\n",
    "    chembl_ids = np.array(activity_df.molecule_chembl_id)\n",
    "    chem_dict = {chembl_ids[i]: all_canonical_smiles[i] for i in range(len(chembl_ids))}\n",
    "# Converting arrays to a dictionary\n",
    "    chem_dict = {chembl_ids[i]: all_canonical_smiles[i] for i in range(len(chembl_ids))}\n",
    "    temp_df = []\n",
    "    col_names = ['molecule_chembl_id', 'MW', 'LogP', 'NumHDonors', 'NumHAcceptors']\n",
    "    for key, smile in chem_dict.items():\n",
    "        mol_weight = float(MolWt(Chem.MolFromSmiles(smile)))\n",
    "        mol_logp = float(MolLogP(Chem.MolFromSmiles(smile)))\n",
    "        h_donors = float(NumHDonors(Chem.MolFromSmiles(smile)))\n",
    "        h_acceptors = float(NumHAcceptors(Chem.MolFromSmiles(smile)))\n",
    "        \n",
    "        array = [key, mol_weight, mol_logp, h_donors, h_acceptors]\n",
    "        temp_df.append(array)\n",
    "        \n",
    "    df = pd.DataFrame(temp_df, columns=col_names)\n",
    "    return df"
   ]
  },
  {
   "cell_type": "code",
   "execution_count": 4,
   "metadata": {},
   "outputs": [
    {
     "data": {
      "text/html": [
       "<div>\n",
       "<style scoped>\n",
       "    .dataframe tbody tr th:only-of-type {\n",
       "        vertical-align: middle;\n",
       "    }\n",
       "\n",
       "    .dataframe tbody tr th {\n",
       "        vertical-align: top;\n",
       "    }\n",
       "\n",
       "    .dataframe thead th {\n",
       "        text-align: right;\n",
       "    }\n",
       "</style>\n",
       "<table border=\"1\" class=\"dataframe\">\n",
       "  <thead>\n",
       "    <tr style=\"text-align: right;\">\n",
       "      <th></th>\n",
       "      <th>molecule_chembl_id</th>\n",
       "      <th>MW</th>\n",
       "      <th>LogP</th>\n",
       "      <th>NumHDonors</th>\n",
       "      <th>NumHAcceptors</th>\n",
       "    </tr>\n",
       "  </thead>\n",
       "  <tbody>\n",
       "    <tr>\n",
       "      <th>0</th>\n",
       "      <td>CHEMBL366927</td>\n",
       "      <td>612.172</td>\n",
       "      <td>3.25792</td>\n",
       "      <td>3.0</td>\n",
       "      <td>11.0</td>\n",
       "    </tr>\n",
       "    <tr>\n",
       "      <th>1</th>\n",
       "      <td>CHEMBL179503</td>\n",
       "      <td>598.145</td>\n",
       "      <td>2.86782</td>\n",
       "      <td>3.0</td>\n",
       "      <td>11.0</td>\n",
       "    </tr>\n",
       "    <tr>\n",
       "      <th>2</th>\n",
       "      <td>CHEMBL206435</td>\n",
       "      <td>175.143</td>\n",
       "      <td>0.13930</td>\n",
       "      <td>1.0</td>\n",
       "      <td>3.0</td>\n",
       "    </tr>\n",
       "    <tr>\n",
       "      <th>3</th>\n",
       "      <td>CHEMBL203709</td>\n",
       "      <td>395.371</td>\n",
       "      <td>1.50530</td>\n",
       "      <td>3.0</td>\n",
       "      <td>6.0</td>\n",
       "    </tr>\n",
       "    <tr>\n",
       "      <th>4</th>\n",
       "      <td>CHEMBL438969</td>\n",
       "      <td>357.366</td>\n",
       "      <td>0.87050</td>\n",
       "      <td>2.0</td>\n",
       "      <td>5.0</td>\n",
       "    </tr>\n",
       "  </tbody>\n",
       "</table>\n",
       "</div>"
      ],
      "text/plain": [
       "  molecule_chembl_id       MW     LogP  NumHDonors  NumHAcceptors\n",
       "0       CHEMBL366927  612.172  3.25792         3.0           11.0\n",
       "1       CHEMBL179503  598.145  2.86782         3.0           11.0\n",
       "2       CHEMBL206435  175.143  0.13930         1.0            3.0\n",
       "3       CHEMBL203709  395.371  1.50530         3.0            6.0\n",
       "4       CHEMBL438969  357.366  0.87050         2.0            5.0"
      ]
     },
     "execution_count": 4,
     "metadata": {},
     "output_type": "execute_result"
    }
   ],
   "source": [
    "lipinski_descriptors = get_lipinski_descriptors(activity_df)\n",
    "lipinski_descriptors.head()"
   ]
  },
  {
   "cell_type": "code",
   "execution_count": 5,
   "metadata": {},
   "outputs": [
    {
     "data": {
      "text/plain": [
       "molecule_chembl_id     object\n",
       "MW                    float64\n",
       "LogP                  float64\n",
       "NumHDonors            float64\n",
       "NumHAcceptors         float64\n",
       "dtype: object"
      ]
     },
     "execution_count": 5,
     "metadata": {},
     "output_type": "execute_result"
    }
   ],
   "source": [
    "lipinski_descriptors.dtypes"
   ]
  },
  {
   "cell_type": "code",
   "execution_count": 6,
   "metadata": {},
   "outputs": [
    {
     "data": {
      "text/html": [
       "<div>\n",
       "<style scoped>\n",
       "    .dataframe tbody tr th:only-of-type {\n",
       "        vertical-align: middle;\n",
       "    }\n",
       "\n",
       "    .dataframe tbody tr th {\n",
       "        vertical-align: top;\n",
       "    }\n",
       "\n",
       "    .dataframe thead th {\n",
       "        text-align: right;\n",
       "    }\n",
       "</style>\n",
       "<table border=\"1\" class=\"dataframe\">\n",
       "  <thead>\n",
       "    <tr style=\"text-align: right;\">\n",
       "      <th></th>\n",
       "      <th>molecule_chembl_id</th>\n",
       "      <th>canonical_smiles</th>\n",
       "      <th>standard_value</th>\n",
       "      <th>bioavtivity_class</th>\n",
       "      <th>MW</th>\n",
       "      <th>LogP</th>\n",
       "      <th>NumHDonors</th>\n",
       "      <th>NumHAcceptors</th>\n",
       "    </tr>\n",
       "  </thead>\n",
       "  <tbody>\n",
       "    <tr>\n",
       "      <th>0</th>\n",
       "      <td>CHEMBL366927</td>\n",
       "      <td>CCCCCCN(C)CC(=O)C(CC(=O)O)NC(=O)C(CC)n1cc(C(C)...</td>\n",
       "      <td>10.0</td>\n",
       "      <td>active</td>\n",
       "      <td>612.172</td>\n",
       "      <td>3.25792</td>\n",
       "      <td>3.0</td>\n",
       "      <td>11.0</td>\n",
       "    </tr>\n",
       "    <tr>\n",
       "      <th>1</th>\n",
       "      <td>CHEMBL179503</td>\n",
       "      <td>CCCCCN(C)CC(=O)C(CC(=O)O)NC(=O)C(CC)n1cc(C(C)(...</td>\n",
       "      <td>10.0</td>\n",
       "      <td>active</td>\n",
       "      <td>598.145</td>\n",
       "      <td>2.86782</td>\n",
       "      <td>3.0</td>\n",
       "      <td>11.0</td>\n",
       "    </tr>\n",
       "    <tr>\n",
       "      <th>2</th>\n",
       "      <td>CHEMBL206435</td>\n",
       "      <td>O=C1NC(=O)c2ccccc2C1=O</td>\n",
       "      <td>1530.0</td>\n",
       "      <td>intermediate</td>\n",
       "      <td>175.143</td>\n",
       "      <td>0.13930</td>\n",
       "      <td>1.0</td>\n",
       "      <td>3.0</td>\n",
       "    </tr>\n",
       "    <tr>\n",
       "      <th>3</th>\n",
       "      <td>CHEMBL203709</td>\n",
       "      <td>COc1ccccc1NC(=O)CCC(=O)Nc1ccc2c(c1)C(=O)C(=O)N...</td>\n",
       "      <td>537.0</td>\n",
       "      <td>active</td>\n",
       "      <td>395.371</td>\n",
       "      <td>1.50530</td>\n",
       "      <td>3.0</td>\n",
       "      <td>6.0</td>\n",
       "    </tr>\n",
       "    <tr>\n",
       "      <th>4</th>\n",
       "      <td>CHEMBL438969</td>\n",
       "      <td>O=C(CCC(=O)N1CCCCC1)Nc1ccc2c(c1)C(=O)C(=O)NC2=O</td>\n",
       "      <td>231.0</td>\n",
       "      <td>active</td>\n",
       "      <td>357.366</td>\n",
       "      <td>0.87050</td>\n",
       "      <td>2.0</td>\n",
       "      <td>5.0</td>\n",
       "    </tr>\n",
       "  </tbody>\n",
       "</table>\n",
       "</div>"
      ],
      "text/plain": [
       "  molecule_chembl_id                                   canonical_smiles  \\\n",
       "0       CHEMBL366927  CCCCCCN(C)CC(=O)C(CC(=O)O)NC(=O)C(CC)n1cc(C(C)...   \n",
       "1       CHEMBL179503  CCCCCN(C)CC(=O)C(CC(=O)O)NC(=O)C(CC)n1cc(C(C)(...   \n",
       "2       CHEMBL206435                             O=C1NC(=O)c2ccccc2C1=O   \n",
       "3       CHEMBL203709  COc1ccccc1NC(=O)CCC(=O)Nc1ccc2c(c1)C(=O)C(=O)N...   \n",
       "4       CHEMBL438969    O=C(CCC(=O)N1CCCCC1)Nc1ccc2c(c1)C(=O)C(=O)NC2=O   \n",
       "\n",
       "   standard_value bioavtivity_class       MW     LogP  NumHDonors  \\\n",
       "0            10.0            active  612.172  3.25792         3.0   \n",
       "1            10.0            active  598.145  2.86782         3.0   \n",
       "2          1530.0      intermediate  175.143  0.13930         1.0   \n",
       "3           537.0            active  395.371  1.50530         3.0   \n",
       "4           231.0            active  357.366  0.87050         2.0   \n",
       "\n",
       "   NumHAcceptors  \n",
       "0           11.0  \n",
       "1           11.0  \n",
       "2            3.0  \n",
       "3            6.0  \n",
       "4            5.0  "
      ]
     },
     "execution_count": 6,
     "metadata": {},
     "output_type": "execute_result"
    }
   ],
   "source": [
    "# Now we can merge the two dataframes\n",
    "\n",
    "df_combined = pd.merge(activity_df, lipinski_descriptors, on='molecule_chembl_id', how='left')\n",
    "df_combined.head()"
   ]
  },
  {
   "cell_type": "code",
   "execution_count": 7,
   "metadata": {},
   "outputs": [
    {
     "data": {
      "text/plain": [
       "count        70.000000\n",
       "mean      19405.228571\n",
       "std       34019.808465\n",
       "min          10.000000\n",
       "25%         287.750000\n",
       "50%        1960.000000\n",
       "75%       13480.250000\n",
       "max      100000.000000\n",
       "Name: standard_value, dtype: float64"
      ]
     },
     "execution_count": 7,
     "metadata": {},
     "output_type": "execute_result"
    }
   ],
   "source": [
    "df_combined.standard_value.describe()"
   ]
  },
  {
   "cell_type": "code",
   "execution_count": 8,
   "metadata": {},
   "outputs": [
    {
     "data": {
      "text/plain": [
       "Text(0.5, 1.0, 'Distribution of Standard Values')"
      ]
     },
     "execution_count": 8,
     "metadata": {},
     "output_type": "execute_result"
    },
    {
     "data": {
      "image/png": "[encoded data removed]",
      "text/plain": [
       "<Figure size 576x432 with 1 Axes>"
      ]
     },
     "metadata": {
      "needs_background": "light"
     },
     "output_type": "display_data"
    }
   ],
   "source": [
    "# Let's look at the distribution of the standard value\n",
    "fig, ax = plt.subplots(figsize=(8, 6))\n",
    "\n",
    "ax = plt.hist(df_combined.standard_value)\n",
    "plt.title('Distribution of Standard Values')"
   ]
  },
  {
   "cell_type": "code",
   "execution_count": 9,
   "metadata": {},
   "outputs": [],
   "source": [
    "# Converting IC50 values to pIC50 --we will convert IC50 to the negative logarithmic scale which is essentially -log10(IC50) to allow IC50 data to be more uniformly distributed. \n",
    "# - We convert from nM to M by multiplying by 10^-9\n",
    "# - We take the molar value and apply the negative logarithm to get pIC50\n",
    "# - However, in order to prevent negative values we'll cap the value at 10^9\n",
    "\n",
    "\n",
    "def transform_ic50_to_pIC50(df):\n",
    "    \"\"\"\n",
    "    Function takes in a dataframe and returns a dataframe with the following columns:\n",
    "    pIC50\n",
    "    \"\"\"\n",
    "    df['standard_value_M'] = df.standard_value.apply(lambda x: x / 10**9) # nM to M\n",
    "    df['standard_value_M'] = df['standard_value_M'].apply(lambda x: 100000000 if x > 100000000 else x) # Capping the standard_value at 10^9 to prevent negative values\n",
    "    df['pIC50'] = df['standard_value_M'].apply(lambda x: -np.log10(x)) # -log10(IC50)\n",
    "    df.drop('standard_value', axis=1, inplace=True)\n",
    "    df.drop('standard_value_M', axis=1, inplace=True)\n",
    "    return df\n"
   ]
  },
  {
   "cell_type": "code",
   "execution_count": 10,
   "metadata": {},
   "outputs": [],
   "source": [
    "df_tranformed = transform_ic50_to_pIC50(df_combined)"
   ]
  },
  {
   "cell_type": "code",
   "execution_count": 11,
   "metadata": {},
   "outputs": [
    {
     "data": {
      "text/html": [
       "<div>\n",
       "<style scoped>\n",
       "    .dataframe tbody tr th:only-of-type {\n",
       "        vertical-align: middle;\n",
       "    }\n",
       "\n",
       "    .dataframe tbody tr th {\n",
       "        vertical-align: top;\n",
       "    }\n",
       "\n",
       "    .dataframe thead th {\n",
       "        text-align: right;\n",
       "    }\n",
       "</style>\n",
       "<table border=\"1\" class=\"dataframe\">\n",
       "  <thead>\n",
       "    <tr style=\"text-align: right;\">\n",
       "      <th></th>\n",
       "      <th>molecule_chembl_id</th>\n",
       "      <th>canonical_smiles</th>\n",
       "      <th>bioavtivity_class</th>\n",
       "      <th>MW</th>\n",
       "      <th>LogP</th>\n",
       "      <th>NumHDonors</th>\n",
       "      <th>NumHAcceptors</th>\n",
       "      <th>pIC50</th>\n",
       "    </tr>\n",
       "  </thead>\n",
       "  <tbody>\n",
       "    <tr>\n",
       "      <th>0</th>\n",
       "      <td>CHEMBL366927</td>\n",
       "      <td>CCCCCCN(C)CC(=O)C(CC(=O)O)NC(=O)C(CC)n1cc(C(C)...</td>\n",
       "      <td>active</td>\n",
       "      <td>612.172</td>\n",
       "      <td>3.25792</td>\n",
       "      <td>3.0</td>\n",
       "      <td>11.0</td>\n",
       "      <td>8.000000</td>\n",
       "    </tr>\n",
       "    <tr>\n",
       "      <th>1</th>\n",
       "      <td>CHEMBL179503</td>\n",
       "      <td>CCCCCN(C)CC(=O)C(CC(=O)O)NC(=O)C(CC)n1cc(C(C)(...</td>\n",
       "      <td>active</td>\n",
       "      <td>598.145</td>\n",
       "      <td>2.86782</td>\n",
       "      <td>3.0</td>\n",
       "      <td>11.0</td>\n",
       "      <td>8.000000</td>\n",
       "    </tr>\n",
       "    <tr>\n",
       "      <th>2</th>\n",
       "      <td>CHEMBL206435</td>\n",
       "      <td>O=C1NC(=O)c2ccccc2C1=O</td>\n",
       "      <td>intermediate</td>\n",
       "      <td>175.143</td>\n",
       "      <td>0.13930</td>\n",
       "      <td>1.0</td>\n",
       "      <td>3.0</td>\n",
       "      <td>5.815309</td>\n",
       "    </tr>\n",
       "    <tr>\n",
       "      <th>3</th>\n",
       "      <td>CHEMBL203709</td>\n",
       "      <td>COc1ccccc1NC(=O)CCC(=O)Nc1ccc2c(c1)C(=O)C(=O)N...</td>\n",
       "      <td>active</td>\n",
       "      <td>395.371</td>\n",
       "      <td>1.50530</td>\n",
       "      <td>3.0</td>\n",
       "      <td>6.0</td>\n",
       "      <td>6.270026</td>\n",
       "    </tr>\n",
       "    <tr>\n",
       "      <th>4</th>\n",
       "      <td>CHEMBL438969</td>\n",
       "      <td>O=C(CCC(=O)N1CCCCC1)Nc1ccc2c(c1)C(=O)C(=O)NC2=O</td>\n",
       "      <td>active</td>\n",
       "      <td>357.366</td>\n",
       "      <td>0.87050</td>\n",
       "      <td>2.0</td>\n",
       "      <td>5.0</td>\n",
       "      <td>6.636388</td>\n",
       "    </tr>\n",
       "  </tbody>\n",
       "</table>\n",
       "</div>"
      ],
      "text/plain": [
       "  molecule_chembl_id                                   canonical_smiles  \\\n",
       "0       CHEMBL366927  CCCCCCN(C)CC(=O)C(CC(=O)O)NC(=O)C(CC)n1cc(C(C)...   \n",
       "1       CHEMBL179503  CCCCCN(C)CC(=O)C(CC(=O)O)NC(=O)C(CC)n1cc(C(C)(...   \n",
       "2       CHEMBL206435                             O=C1NC(=O)c2ccccc2C1=O   \n",
       "3       CHEMBL203709  COc1ccccc1NC(=O)CCC(=O)Nc1ccc2c(c1)C(=O)C(=O)N...   \n",
       "4       CHEMBL438969    O=C(CCC(=O)N1CCCCC1)Nc1ccc2c(c1)C(=O)C(=O)NC2=O   \n",
       "\n",
       "  bioavtivity_class       MW     LogP  NumHDonors  NumHAcceptors     pIC50  \n",
       "0            active  612.172  3.25792         3.0           11.0  8.000000  \n",
       "1            active  598.145  2.86782         3.0           11.0  8.000000  \n",
       "2      intermediate  175.143  0.13930         1.0            3.0  5.815309  \n",
       "3            active  395.371  1.50530         3.0            6.0  6.270026  \n",
       "4            active  357.366  0.87050         2.0            5.0  6.636388  "
      ]
     },
     "execution_count": 11,
     "metadata": {},
     "output_type": "execute_result"
    }
   ],
   "source": [
    "df_tranformed.head()"
   ]
  },
  {
   "cell_type": "code",
   "execution_count": 12,
   "metadata": {},
   "outputs": [
    {
     "data": {
      "text/plain": [
       "Text(0.5, 1.0, 'Distribution of Standard Values')"
      ]
     },
     "execution_count": 12,
     "metadata": {},
     "output_type": "execute_result"
    },
    {
     "data": {
      "image/png": "[encoded data removed]",
      "text/plain": [
       "<Figure size 576x432 with 1 Axes>"
      ]
     },
     "metadata": {
      "needs_background": "light"
     },
     "output_type": "display_data"
    }
   ],
   "source": [
    "# Checking the distribution of the pIC50 values\n",
    "fig, ax = plt.subplots(figsize=(8, 6))\n",
    "ax = plt.hist(df_tranformed.pIC50)\n",
    "plt.title('Distribution of Standard Values')"
   ]
  },
  {
   "cell_type": "code",
   "execution_count": 13,
   "metadata": {},
   "outputs": [
    {
     "data": {
      "text/plain": [
       "count    70.000000\n",
       "mean      5.698202\n",
       "std       1.131274\n",
       "min       4.000000\n",
       "25%       4.870360\n",
       "50%       5.707767\n",
       "75%       6.552811\n",
       "max       8.000000\n",
       "Name: pIC50, dtype: float64"
      ]
     },
     "execution_count": 13,
     "metadata": {},
     "output_type": "execute_result"
    }
   ],
   "source": [
    "df_combined.pIC50.describe()"
   ]
  },
  {
   "cell_type": "code",
   "execution_count": 14,
   "metadata": {},
   "outputs": [
    {
     "data": {
      "text/html": [
       "<div>\n",
       "<style scoped>\n",
       "    .dataframe tbody tr th:only-of-type {\n",
       "        vertical-align: middle;\n",
       "    }\n",
       "\n",
       "    .dataframe tbody tr th {\n",
       "        vertical-align: top;\n",
       "    }\n",
       "\n",
       "    .dataframe thead th {\n",
       "        text-align: right;\n",
       "    }\n",
       "</style>\n",
       "<table border=\"1\" class=\"dataframe\">\n",
       "  <thead>\n",
       "    <tr style=\"text-align: right;\">\n",
       "      <th></th>\n",
       "      <th>molecule_chembl_id</th>\n",
       "      <th>canonical_smiles</th>\n",
       "      <th>bioavtivity_class</th>\n",
       "      <th>MW</th>\n",
       "      <th>LogP</th>\n",
       "      <th>NumHDonors</th>\n",
       "      <th>NumHAcceptors</th>\n",
       "      <th>pIC50</th>\n",
       "    </tr>\n",
       "  </thead>\n",
       "  <tbody>\n",
       "    <tr>\n",
       "      <th>0</th>\n",
       "      <td>CHEMBL366927</td>\n",
       "      <td>CCCCCCN(C)CC(=O)C(CC(=O)O)NC(=O)C(CC)n1cc(C(C)...</td>\n",
       "      <td>active</td>\n",
       "      <td>612.172</td>\n",
       "      <td>3.25792</td>\n",
       "      <td>3.0</td>\n",
       "      <td>11.0</td>\n",
       "      <td>8.000000</td>\n",
       "    </tr>\n",
       "    <tr>\n",
       "      <th>1</th>\n",
       "      <td>CHEMBL179503</td>\n",
       "      <td>CCCCCN(C)CC(=O)C(CC(=O)O)NC(=O)C(CC)n1cc(C(C)(...</td>\n",
       "      <td>active</td>\n",
       "      <td>598.145</td>\n",
       "      <td>2.86782</td>\n",
       "      <td>3.0</td>\n",
       "      <td>11.0</td>\n",
       "      <td>8.000000</td>\n",
       "    </tr>\n",
       "    <tr>\n",
       "      <th>3</th>\n",
       "      <td>CHEMBL203709</td>\n",
       "      <td>COc1ccccc1NC(=O)CCC(=O)Nc1ccc2c(c1)C(=O)C(=O)N...</td>\n",
       "      <td>active</td>\n",
       "      <td>395.371</td>\n",
       "      <td>1.50530</td>\n",
       "      <td>3.0</td>\n",
       "      <td>6.0</td>\n",
       "      <td>6.270026</td>\n",
       "    </tr>\n",
       "    <tr>\n",
       "      <th>4</th>\n",
       "      <td>CHEMBL438969</td>\n",
       "      <td>O=C(CCC(=O)N1CCCCC1)Nc1ccc2c(c1)C(=O)C(=O)NC2=O</td>\n",
       "      <td>active</td>\n",
       "      <td>357.366</td>\n",
       "      <td>0.87050</td>\n",
       "      <td>2.0</td>\n",
       "      <td>5.0</td>\n",
       "      <td>6.636388</td>\n",
       "    </tr>\n",
       "    <tr>\n",
       "      <th>5</th>\n",
       "      <td>CHEMBL202971</td>\n",
       "      <td>O=C(O)CCC(=O)Nc1ccc2c(c1)C(=O)C(=O)NC2=O</td>\n",
       "      <td>active</td>\n",
       "      <td>290.231</td>\n",
       "      <td>-0.05740</td>\n",
       "      <td>3.0</td>\n",
       "      <td>5.0</td>\n",
       "      <td>6.066007</td>\n",
       "    </tr>\n",
       "  </tbody>\n",
       "</table>\n",
       "</div>"
      ],
      "text/plain": [
       "  molecule_chembl_id                                   canonical_smiles  \\\n",
       "0       CHEMBL366927  CCCCCCN(C)CC(=O)C(CC(=O)O)NC(=O)C(CC)n1cc(C(C)...   \n",
       "1       CHEMBL179503  CCCCCN(C)CC(=O)C(CC(=O)O)NC(=O)C(CC)n1cc(C(C)(...   \n",
       "3       CHEMBL203709  COc1ccccc1NC(=O)CCC(=O)Nc1ccc2c(c1)C(=O)C(=O)N...   \n",
       "4       CHEMBL438969    O=C(CCC(=O)N1CCCCC1)Nc1ccc2c(c1)C(=O)C(=O)NC2=O   \n",
       "5       CHEMBL202971           O=C(O)CCC(=O)Nc1ccc2c(c1)C(=O)C(=O)NC2=O   \n",
       "\n",
       "  bioavtivity_class       MW     LogP  NumHDonors  NumHAcceptors     pIC50  \n",
       "0            active  612.172  3.25792         3.0           11.0  8.000000  \n",
       "1            active  598.145  2.86782         3.0           11.0  8.000000  \n",
       "3            active  395.371  1.50530         3.0            6.0  6.270026  \n",
       "4            active  357.366  0.87050         2.0            5.0  6.636388  \n",
       "5            active  290.231 -0.05740         3.0            5.0  6.066007  "
      ]
     },
     "execution_count": 14,
     "metadata": {},
     "output_type": "execute_result"
    }
   ],
   "source": [
    "# Removing the \"intermediate\" bioactivity class\n",
    "df_final = df_combined[df_combined.bioavtivity_class != 'intermediate']\n",
    "df_final.head()"
   ]
  },
  {
   "cell_type": "code",
   "execution_count": 15,
   "metadata": {},
   "outputs": [],
   "source": [
    "df_final.to_csv(os.path.join(project_dir, data_dir, f'{target}_bioactive_data_LIP_descriptors.csv'), index=False)"
   ]
  },
  {
   "cell_type": "code",
   "execution_count": 16,
   "metadata": {},
   "outputs": [
    {
     "data": {
      "text/plain": [
       "molecule_chembl_id     object\n",
       "canonical_smiles       object\n",
       "bioavtivity_class      object\n",
       "MW                    float64\n",
       "LogP                  float64\n",
       "NumHDonors            float64\n",
       "NumHAcceptors         float64\n",
       "pIC50                 float64\n",
       "dtype: object"
      ]
     },
     "execution_count": 16,
     "metadata": {},
     "output_type": "execute_result"
    }
   ],
   "source": [
    "df_final.dtypes"
   ]
  },
  {
   "attachments": {},
   "cell_type": "markdown",
   "metadata": {},
   "source": [
    "### EDA (Chemical Space Analysis) via Lipinski descriptors"
   ]
  },
  {
   "cell_type": "code",
   "execution_count": 17,
   "metadata": {},
   "outputs": [
    {
     "data": {
      "image/png": "[encoded data removed]",
      "text/plain": [
       "<Figure size 576x432 with 1 Axes>"
      ]
     },
     "metadata": {},
     "output_type": "display_data"
    }
   ],
   "source": [
    "# Frequency of the 2 activity classes\n",
    "\n",
    "plt.style.use('fivethirtyeight')\n",
    "fig, ax  = plt.subplots(figsize=(8, 6))\n",
    "\n",
    "ax = sns.countplot(data=df_final, x='bioavtivity_class')\n",
    "plt.title('Frequency of Bioactivity Classes')\n",
    "ax.set_xlabel('Bioactivity Class', fontsize=14, fontweight='bold')\n",
    "ax.set_ylabel('Frequency', fontsize=14, fontweight='bold')\n",
    "plt.tight_layout()\n",
    "plt.savefig(os.path.join(project_dir, figures_dir, 'bioactivity_class_frequency.png'), dpi=300)\n",
    "plt.show()\n"
   ]
  },
  {
   "cell_type": "code",
   "execution_count": 18,
   "metadata": {},
   "outputs": [
    {
     "data": {
      "image/png": "[encoded data removed]",
      "text/plain": [
       "<Figure size 576x432 with 1 Axes>"
      ]
     },
     "metadata": {},
     "output_type": "display_data"
    }
   ],
   "source": [
    "# Scatter plot of MW vs LogP\n",
    "plt.style.use('fivethirtyeight')\n",
    "fig, ax = plt.subplots(figsize=(8, 6))\n",
    "\n",
    "ax = sns.scatterplot(data=df_final, x='MW', y='LogP', hue='bioavtivity_class', size='pIC50')\n",
    "plt.title('Molecular Weight vs LogP')\n",
    "ax.set_xlabel('Molecular Weight', fontsize=14, fontweight='bold')\n",
    "ax.set_ylabel('LogP', fontsize=14, fontweight='bold')\n",
    "plt.legend(bbox_to_anchor=(1.05, 1), loc=2, borderaxespad=0.)\n",
    "plt.tight_layout()\n",
    "plt.savefig(os.path.join(project_dir, figures_dir, 'MW_vs_LogP.png'), dpi=300)\n",
    "plt.show()"
   ]
  },
  {
   "cell_type": "code",
   "execution_count": 19,
   "metadata": {},
   "outputs": [
    {
     "data": {
      "image/png": "[encoded data removed]",
      "text/plain": [
       "<Figure size 576x432 with 1 Axes>"
      ]
     },
     "metadata": {},
     "output_type": "display_data"
    }
   ],
   "source": [
    "# Looking at pIC50 values for the two classes\n",
    "fig, ax = plt.subplots(figsize=(8, 6))\n",
    "\n",
    "ax = sns.boxplot(data=df_final, x='bioavtivity_class', y='pIC50')\n",
    "plt.title('pIC50 values for the two classes')\n",
    "ax.set_xlabel('Bioactivity Class', fontsize=14, fontweight='bold')\n",
    "ax.set_ylabel('pIC50', fontsize=14, fontweight='bold')\n",
    "plt.tight_layout()\n",
    "plt.savefig(os.path.join(project_dir, figures_dir, 'pIC50_values.png'), dpi=300)\n",
    "plt.show()\n"
   ]
  },
  {
   "cell_type": "code",
   "execution_count": 20,
   "metadata": {},
   "outputs": [],
   "source": [
    "# Statitical analysis of the two classes | Mann-Whitney U test\n",
    "# Function to test the statistical significance of the two activity classes for each of the descriptors\n",
    "\n",
    "def wmw_test(df, descriptor):\n",
    "    \"\"\"\n",
    "    Function takes in a dataframe and two columns and returns the Mann-Whitney U test and the p-value\n",
    "    \"\"\"\n",
    "    seed(1)\n",
    "    active = df[df['bioavtivity_class'] == 'active'][descriptor]\n",
    "    inactive = df[df['bioavtivity_class'] == 'inactive'][descriptor]\n",
    "    stat, pval = mannwhitneyu(active, inactive)\n",
    "    \n",
    "    alpha = 0.05\n",
    "    \n",
    "    if pval < alpha:\n",
    "        interpretation = 'There is a significant difference between the two classes; reject the null hypothesis'\n",
    "    else:\n",
    "        interpretation = 'There is no significant difference between the two classes; fail to reject the null hypothesis'\n",
    "    results = {'Descriptor': descriptor, 'Statistics': stat, 'P-value': pval, 'Interpretation': interpretation}\n",
    "    results_df = pd.DataFrame(results, index=[0])\n",
    "    \n",
    "    return results_df\n"
   ]
  },
  {
   "cell_type": "code",
   "execution_count": 21,
   "metadata": {},
   "outputs": [
    {
     "data": {
      "text/html": [
       "<div>\n",
       "<style scoped>\n",
       "    .dataframe tbody tr th:only-of-type {\n",
       "        vertical-align: middle;\n",
       "    }\n",
       "\n",
       "    .dataframe tbody tr th {\n",
       "        vertical-align: top;\n",
       "    }\n",
       "\n",
       "    .dataframe thead th {\n",
       "        text-align: right;\n",
       "    }\n",
       "</style>\n",
       "<table border=\"1\" class=\"dataframe\">\n",
       "  <thead>\n",
       "    <tr style=\"text-align: right;\">\n",
       "      <th></th>\n",
       "      <th>Descriptor</th>\n",
       "      <th>Statistics</th>\n",
       "      <th>P-value</th>\n",
       "      <th>Interpretation</th>\n",
       "    </tr>\n",
       "  </thead>\n",
       "  <tbody>\n",
       "    <tr>\n",
       "      <th>0</th>\n",
       "      <td>pIC50</td>\n",
       "      <td>609.0</td>\n",
       "      <td>2.056024e-09</td>\n",
       "      <td>There is a significant difference between the ...</td>\n",
       "    </tr>\n",
       "  </tbody>\n",
       "</table>\n",
       "</div>"
      ],
      "text/plain": [
       "  Descriptor  Statistics       P-value  \\\n",
       "0      pIC50       609.0  2.056024e-09   \n",
       "\n",
       "                                      Interpretation  \n",
       "0  There is a significant difference between the ...  "
      ]
     },
     "execution_count": 21,
     "metadata": {},
     "output_type": "execute_result"
    }
   ],
   "source": [
    "wmw_test(df_final, 'pIC50')"
   ]
  },
  {
   "cell_type": "code",
   "execution_count": 22,
   "metadata": {},
   "outputs": [
    {
     "data": {
      "image/png": "[encoded data removed]",
      "text/plain": [
       "<Figure size 576x432 with 1 Axes>"
      ]
     },
     "metadata": {},
     "output_type": "display_data"
    }
   ],
   "source": [
    "# Looking at MW values for the two classes\n",
    "fig, ax = plt.subplots(figsize=(8, 6))\n",
    "\n",
    "ax = sns.boxplot(data=df_final, x='bioavtivity_class', y='MW')\n",
    "plt.title('MW values for the two classes')\n",
    "ax.set_xlabel('Bioactivity Class', fontsize=14, fontweight='bold')\n",
    "ax.set_ylabel('MW', fontsize=14, fontweight='bold')\n",
    "plt.tight_layout()\n",
    "plt.savefig(os.path.join(project_dir, figures_dir, 'MW_values.png'), dpi=300)\n",
    "plt.show()"
   ]
  },
  {
   "cell_type": "code",
   "execution_count": 23,
   "metadata": {},
   "outputs": [
    {
     "data": {
      "text/html": [
       "<div>\n",
       "<style scoped>\n",
       "    .dataframe tbody tr th:only-of-type {\n",
       "        vertical-align: middle;\n",
       "    }\n",
       "\n",
       "    .dataframe tbody tr th {\n",
       "        vertical-align: top;\n",
       "    }\n",
       "\n",
       "    .dataframe thead th {\n",
       "        text-align: right;\n",
       "    }\n",
       "</style>\n",
       "<table border=\"1\" class=\"dataframe\">\n",
       "  <thead>\n",
       "    <tr style=\"text-align: right;\">\n",
       "      <th></th>\n",
       "      <th>Descriptor</th>\n",
       "      <th>Statistics</th>\n",
       "      <th>P-value</th>\n",
       "      <th>Interpretation</th>\n",
       "    </tr>\n",
       "  </thead>\n",
       "  <tbody>\n",
       "    <tr>\n",
       "      <th>0</th>\n",
       "      <td>MW</td>\n",
       "      <td>203.5</td>\n",
       "      <td>0.047918</td>\n",
       "      <td>There is a significant difference between the ...</td>\n",
       "    </tr>\n",
       "  </tbody>\n",
       "</table>\n",
       "</div>"
      ],
      "text/plain": [
       "  Descriptor  Statistics   P-value  \\\n",
       "0         MW       203.5  0.047918   \n",
       "\n",
       "                                      Interpretation  \n",
       "0  There is a significant difference between the ...  "
      ]
     },
     "execution_count": 23,
     "metadata": {},
     "output_type": "execute_result"
    }
   ],
   "source": [
    "wmw_test(df_final, 'MW')"
   ]
  },
  {
   "cell_type": "code",
   "execution_count": 24,
   "metadata": {},
   "outputs": [
    {
     "data": {
      "image/png": "[encoded data removed]",
      "text/plain": [
       "<Figure size 576x432 with 1 Axes>"
      ]
     },
     "metadata": {},
     "output_type": "display_data"
    }
   ],
   "source": [
    "# Looking at NumHDonors values for the two classes\n",
    "fig, ax = plt.subplots(figsize=(8, 6))\n",
    "\n",
    "ax = sns.boxplot(data=df_final, x='bioavtivity_class', y='NumHDonors')\n",
    "plt.title('NumHDonors values for the two classes')\n",
    "ax.set_xlabel('Bioactivity Class', fontsize=14, fontweight='bold')\n",
    "ax.set_ylabel('NumHDonors', fontsize=14, fontweight='bold')\n",
    "plt.tight_layout()\n",
    "plt.savefig(os.path.join(project_dir, figures_dir, 'NumHDonors_values.png'), dpi=300)\n",
    "plt.show()"
   ]
  },
  {
   "cell_type": "code",
   "execution_count": 25,
   "metadata": {},
   "outputs": [
    {
     "data": {
      "text/html": [
       "<div>\n",
       "<style scoped>\n",
       "    .dataframe tbody tr th:only-of-type {\n",
       "        vertical-align: middle;\n",
       "    }\n",
       "\n",
       "    .dataframe tbody tr th {\n",
       "        vertical-align: top;\n",
       "    }\n",
       "\n",
       "    .dataframe thead th {\n",
       "        text-align: right;\n",
       "    }\n",
       "</style>\n",
       "<table border=\"1\" class=\"dataframe\">\n",
       "  <thead>\n",
       "    <tr style=\"text-align: right;\">\n",
       "      <th></th>\n",
       "      <th>Descriptor</th>\n",
       "      <th>Statistics</th>\n",
       "      <th>P-value</th>\n",
       "      <th>Interpretation</th>\n",
       "    </tr>\n",
       "  </thead>\n",
       "  <tbody>\n",
       "    <tr>\n",
       "      <th>0</th>\n",
       "      <td>NumHDonors</td>\n",
       "      <td>293.5</td>\n",
       "      <td>0.809653</td>\n",
       "      <td>There is no significant difference between the...</td>\n",
       "    </tr>\n",
       "  </tbody>\n",
       "</table>\n",
       "</div>"
      ],
      "text/plain": [
       "   Descriptor  Statistics   P-value  \\\n",
       "0  NumHDonors       293.5  0.809653   \n",
       "\n",
       "                                      Interpretation  \n",
       "0  There is no significant difference between the...  "
      ]
     },
     "execution_count": 25,
     "metadata": {},
     "output_type": "execute_result"
    }
   ],
   "source": [
    "wmw_test(df_final, 'NumHDonors')"
   ]
  },
  {
   "cell_type": "code",
   "execution_count": 26,
   "metadata": {},
   "outputs": [
    {
     "data": {
      "image/png": "[encoded data removed]",
      "text/plain": [
       "<Figure size 576x432 with 1 Axes>"
      ]
     },
     "metadata": {},
     "output_type": "display_data"
    }
   ],
   "source": [
    "# Looking at NumHAcceptors values for the two classes\n",
    "fig, ax = plt.subplots(figsize=(8, 6))\n",
    "\n",
    "ax = sns.boxplot(data=df_final, x='bioavtivity_class', y='NumHAcceptors')\n",
    "plt.title('NumHAcceptors values for the two classes')\n",
    "ax.set_xlabel('Bioactivity Class', fontsize=14, fontweight='bold')\n",
    "ax.set_ylabel('NumHAcceptors', fontsize=14, fontweight='bold')\n",
    "plt.tight_layout()\n",
    "plt.savefig(os.path.join(project_dir, figures_dir, 'NumHAcceptors_values.png'), dpi=300)\n",
    "plt.show()"
   ]
  },
  {
   "cell_type": "code",
   "execution_count": 27,
   "metadata": {},
   "outputs": [
    {
     "data": {
      "text/html": [
       "<div>\n",
       "<style scoped>\n",
       "    .dataframe tbody tr th:only-of-type {\n",
       "        vertical-align: middle;\n",
       "    }\n",
       "\n",
       "    .dataframe tbody tr th {\n",
       "        vertical-align: top;\n",
       "    }\n",
       "\n",
       "    .dataframe thead th {\n",
       "        text-align: right;\n",
       "    }\n",
       "</style>\n",
       "<table border=\"1\" class=\"dataframe\">\n",
       "  <thead>\n",
       "    <tr style=\"text-align: right;\">\n",
       "      <th></th>\n",
       "      <th>Descriptor</th>\n",
       "      <th>Statistics</th>\n",
       "      <th>P-value</th>\n",
       "      <th>Interpretation</th>\n",
       "    </tr>\n",
       "  </thead>\n",
       "  <tbody>\n",
       "    <tr>\n",
       "      <th>0</th>\n",
       "      <td>NumHAcceptors</td>\n",
       "      <td>284.0</td>\n",
       "      <td>0.678376</td>\n",
       "      <td>There is no significant difference between the...</td>\n",
       "    </tr>\n",
       "  </tbody>\n",
       "</table>\n",
       "</div>"
      ],
      "text/plain": [
       "      Descriptor  Statistics   P-value  \\\n",
       "0  NumHAcceptors       284.0  0.678376   \n",
       "\n",
       "                                      Interpretation  \n",
       "0  There is no significant difference between the...  "
      ]
     },
     "execution_count": 27,
     "metadata": {},
     "output_type": "execute_result"
    }
   ],
   "source": [
    "wmw_test(df_final, 'NumHAcceptors')"
   ]
  },
  {
   "cell_type": "code",
   "execution_count": 28,
   "metadata": {},
   "outputs": [
    {
     "data": {
      "image/png": "[encoded data removed]",
      "text/plain": [
       "<Figure size 576x432 with 1 Axes>"
      ]
     },
     "metadata": {},
     "output_type": "display_data"
    }
   ],
   "source": [
    "# Looking at LogP values for the two classes\n",
    "fig, ax = plt.subplots(figsize=(8, 6))\n",
    "\n",
    "ax = sns.boxplot(data=df_final, x='bioavtivity_class', y='LogP')\n",
    "plt.title('LogP values for the two classes')\n",
    "ax.set_xlabel('Bioactivity Class', fontsize=14, fontweight='bold')\n",
    "ax.set_ylabel('LogP', fontsize=14, fontweight='bold')\n",
    "plt.tight_layout()\n",
    "plt.savefig(os.path.join(project_dir, figures_dir, 'LogP_values.png'), dpi=300)\n",
    "plt.show()"
   ]
  },
  {
   "cell_type": "code",
   "execution_count": 29,
   "metadata": {},
   "outputs": [
    {
     "data": {
      "text/html": [
       "<div>\n",
       "<style scoped>\n",
       "    .dataframe tbody tr th:only-of-type {\n",
       "        vertical-align: middle;\n",
       "    }\n",
       "\n",
       "    .dataframe tbody tr th {\n",
       "        vertical-align: top;\n",
       "    }\n",
       "\n",
       "    .dataframe thead th {\n",
       "        text-align: right;\n",
       "    }\n",
       "</style>\n",
       "<table border=\"1\" class=\"dataframe\">\n",
       "  <thead>\n",
       "    <tr style=\"text-align: right;\">\n",
       "      <th></th>\n",
       "      <th>Descriptor</th>\n",
       "      <th>Statistics</th>\n",
       "      <th>P-value</th>\n",
       "      <th>Interpretation</th>\n",
       "    </tr>\n",
       "  </thead>\n",
       "  <tbody>\n",
       "    <tr>\n",
       "      <th>0</th>\n",
       "      <td>LogP</td>\n",
       "      <td>250.5</td>\n",
       "      <td>0.292798</td>\n",
       "      <td>There is no significant difference between the...</td>\n",
       "    </tr>\n",
       "  </tbody>\n",
       "</table>\n",
       "</div>"
      ],
      "text/plain": [
       "  Descriptor  Statistics   P-value  \\\n",
       "0       LogP       250.5  0.292798   \n",
       "\n",
       "                                      Interpretation  \n",
       "0  There is no significant difference between the...  "
      ]
     },
     "execution_count": 29,
     "metadata": {},
     "output_type": "execute_result"
    }
   ],
   "source": [
    "wmw_test(df_final, 'LogP')"
   ]
  },
  {
   "cell_type": "code",
   "execution_count": 30,
   "metadata": {},
   "outputs": [
    {
     "name": "stderr",
     "output_type": "stream",
     "text": [
      "/var/folders/6t/_k6kmr152jq69rjlrcg91mb00000gn/T/ipykernel_10660/3160741081.py:7: FutureWarning: The frame.append method is deprecated and will be removed from pandas in a future version. Use pandas.concat instead.\n",
      "  result_df = result_df.append(results_df, ignore_index=True)\n",
      "/var/folders/6t/_k6kmr152jq69rjlrcg91mb00000gn/T/ipykernel_10660/3160741081.py:7: FutureWarning: The frame.append method is deprecated and will be removed from pandas in a future version. Use pandas.concat instead.\n",
      "  result_df = result_df.append(results_df, ignore_index=True)\n",
      "/var/folders/6t/_k6kmr152jq69rjlrcg91mb00000gn/T/ipykernel_10660/3160741081.py:7: FutureWarning: The frame.append method is deprecated and will be removed from pandas in a future version. Use pandas.concat instead.\n",
      "  result_df = result_df.append(results_df, ignore_index=True)\n",
      "/var/folders/6t/_k6kmr152jq69rjlrcg91mb00000gn/T/ipykernel_10660/3160741081.py:7: FutureWarning: The frame.append method is deprecated and will be removed from pandas in a future version. Use pandas.concat instead.\n",
      "  result_df = result_df.append(results_df, ignore_index=True)\n",
      "/var/folders/6t/_k6kmr152jq69rjlrcg91mb00000gn/T/ipykernel_10660/3160741081.py:7: FutureWarning: The frame.append method is deprecated and will be removed from pandas in a future version. Use pandas.concat instead.\n",
      "  result_df = result_df.append(results_df, ignore_index=True)\n"
     ]
    }
   ],
   "source": [
    "# Combining the results of the wmw test into a single dataframe\n",
    "all_descriptors = ['pIC50', 'MW', 'NumHDonors', 'NumHAcceptors', 'LogP']\n",
    "result_df = pd.DataFrame()\n",
    "\n",
    "for d in all_descriptors:\n",
    "        results_df = wmw_test(df_final, d)\n",
    "        result_df = result_df.append(results_df, ignore_index=True)\n",
    "        "
   ]
  },
  {
   "cell_type": "code",
   "execution_count": 31,
   "metadata": {},
   "outputs": [],
   "source": [
    "result_df.to_csv(os.path.join(project_dir, analyses_dir, 'statistical_analysis.csv'), index=False)"
   ]
  },
  {
   "cell_type": "code",
   "execution_count": null,
   "metadata": {},
   "outputs": [],
   "source": []
  },
  {
   "cell_type": "code",
   "execution_count": null,
   "metadata": {},
   "outputs": [],
   "source": []
  }
 ],
 "metadata": {
  "kernelspec": {
   "display_name": "bioinformatics",
   "language": "python",
   "name": "python3"
  },
  "language_info": {
   "codemirror_mode": {
    "name": "ipython",
    "version": 3
   },
   "file_extension": ".py",
   "mimetype": "text/x-python",
   "name": "python",
   "nbconvert_exporter": "python",
   "pygments_lexer": "ipython3",
   "version": "3.10.9"
  },
  "orig_nbformat": 4,
  "vscode": {
   "interpreter": {
    "hash": "197e7e230ca823e8d11599cdbba3cc3ff9cb3385b94e128b78544bc31c48aeda"
   }
  }
 },
 "nbformat": 4,
 "nbformat_minor": 2
}
